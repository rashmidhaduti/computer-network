{
 "cells": [
  {
   "cell_type": "code",
   "execution_count": 1,
   "metadata": {},
   "outputs": [
    {
     "name": "stdout",
     "output_type": "stream",
     "text": [
      "Enter the bucket size: 1000\n",
      "Enter the output rate: 200\n",
      "Enter number of packets: 4\n",
      "\n",
      "Packet number: \n",
      "1\n",
      "Enter packet size: 80\n",
      "Bucket output successful!\n",
      "Last bytes sent: \n",
      "80\n",
      "\n",
      "Packet number: \n",
      "2\n",
      "Enter packet size: 260\n",
      "Bucket output successful!\n",
      "Bytes outputted: \n",
      "200\n",
      "Last bytes sent: \n",
      "60\n",
      "\n",
      "Packet number: \n",
      "3\n",
      "Enter packet size: 432\n",
      "Bucket output successful!\n",
      "Bytes outputted: \n",
      "200\n",
      "Last bytes sent: \n",
      "232\n",
      "\n",
      "Packet number: \n",
      "4\n",
      "Enter packet size: 1050\n",
      "Bucket Overflow!!\n"
     ]
    }
   ],
   "source": [
    "def main():\n",
    "    bucketSize = int(input('Enter the bucket size: '))\n",
    "    outputRate = int(input('Enter the output rate: '))\n",
    "    numberOfPackets = int(input('Enter number of packets: '))\n",
    "    for i in range(0, numberOfPackets):\n",
    "        print('\\nPacket number: ')\n",
    "        print(i+1)\n",
    "        packetSize = int(input('Enter packet size: '))\n",
    "        if packetSize < bucketSize:\n",
    "            if(packetSize <= outputRate):\n",
    "                print('Bucket output successful!')\n",
    "                print('Last bytes sent: ')\n",
    "                print(packetSize)\n",
    "            else:\n",
    "                print('Bucket output successful!')\n",
    "                print('Bytes outputted: ')\n",
    "                print(outputRate)\n",
    "                sent = packetSize - outputRate\n",
    "                print('Last bytes sent: ')\n",
    "                print(sent)\n",
    "        else:\n",
    "            print('Bucket Overflow!!')\n",
    "\n",
    "\n",
    "main()"
   ]
  },
  {
   "cell_type": "code",
   "execution_count": null,
   "metadata": {},
   "outputs": [],
   "source": []
  }
 ],
 "metadata": {
  "kernelspec": {
   "display_name": "Python 3",
   "language": "python",
   "name": "python3"
  },
  "language_info": {
   "codemirror_mode": {
    "name": "ipython",
    "version": 3
   },
   "file_extension": ".py",
   "mimetype": "text/x-python",
   "name": "python",
   "nbconvert_exporter": "python",
   "pygments_lexer": "ipython3",
   "version": "3.8.3"
  }
 },
 "nbformat": 4,
 "nbformat_minor": 4
}
